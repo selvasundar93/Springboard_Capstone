{
 "cells": [
  {
   "cell_type": "markdown",
   "metadata": {},
   "source": [
    "### Import the Libraries"
   ]
  },
  {
   "cell_type": "code",
   "execution_count": 1,
   "metadata": {},
   "outputs": [],
   "source": [
    "import os\n",
    "import pandas as pd\n",
    "import numpy as np\n",
    "import matplotlib.pyplot as plt\n",
    "%matplotlib inline"
   ]
  },
  {
   "cell_type": "markdown",
   "metadata": {},
   "source": [
    "## Load and combine the Dataset"
   ]
  },
  {
   "cell_type": "code",
   "execution_count": 4,
   "metadata": {},
   "outputs": [],
   "source": [
    "# Create the blank dataframe\n",
    "combined_data = pd.DataFrame()\n",
    "\n",
    "# Set the file directory\n",
    "data_dir = 'D:/Springboard/Capstone_Works/Project/Proj_DataSet/1st_test'\n",
    "\n",
    "# Iterate through all the files\n",
    "for file_name in os.listdir(data_dir):\n",
    "    df = pd.read_csv(os.path.join(data_dir, file_name), sep='\\t')\n",
    "    \n",
    "    # To get the absolute mean value of each file\n",
    "    df_mean_abs = np.array(df.abs().mean())\n",
    "    df_mean_abs = pd.DataFrame(df_mean_abs.reshape(1,8))\n",
    "    \n",
    "    # Set the index as date_time, which is the name of the file\n",
    "    df_mean_abs.index = [file_name]\n",
    "    \n",
    "    # Append individual dataframes to create a single combined dataset\n",
    "    combined_data = combined_data.append(df_mean_abs)\n"
   ]
  },
  {
   "cell_type": "code",
   "execution_count": 5,
   "metadata": {},
   "outputs": [],
   "source": [
    "# Insert Column headers    \n",
    "combined_data.columns = ['Bearing_1_x','Bearing_1_y','Bearing_2_x','Bearing_2_y','Bearing_3_x','Bearing_3_y','Bearing_4_x','Bearing_4_y']"
   ]
  },
  {
   "cell_type": "code",
   "execution_count": 6,
   "metadata": {},
   "outputs": [
    {
     "name": "stdout",
     "output_type": "stream",
     "text": [
      "                     Bearing_1_x  Bearing_1_y  Bearing_2_x  Bearing_2_y  \\\n",
      "2003.10.22.12.06.24     0.104148     0.100253     0.107147     0.102004   \n",
      "2003.10.22.12.09.13     0.103651     0.099854     0.108189     0.102920   \n",
      "2003.10.22.12.14.13     0.105039     0.101543     0.108543     0.104042   \n",
      "2003.10.22.12.19.13     0.104900     0.101573     0.108152     0.103378   \n",
      "2003.10.22.12.24.13     0.104779     0.102181     0.107943     0.102629   \n",
      "\n",
      "                     Bearing_3_x  Bearing_3_y  Bearing_4_x  Bearing_4_y  \n",
      "2003.10.22.12.06.24     0.106149     0.108150     0.094803     0.099513  \n",
      "2003.10.22.12.09.13     0.106661     0.108458     0.095070     0.093587  \n",
      "2003.10.22.12.14.13     0.108740     0.109875     0.096158     0.098299  \n",
      "2003.10.22.12.19.13     0.108068     0.110010     0.096814     0.098602  \n",
      "2003.10.22.12.24.13     0.108454     0.109350     0.096358     0.098471  \n",
      "(2156, 8)\n"
     ]
    }
   ],
   "source": [
    "# Printing the combined_data\n",
    "print(combined_data.head(5))\n",
    "print(combined_data.shape)"
   ]
  },
  {
   "cell_type": "markdown",
   "metadata": {},
   "source": [
    "### Sort the dataset with data_time as index"
   ]
  },
  {
   "cell_type": "code",
   "execution_count": 7,
   "metadata": {},
   "outputs": [
    {
     "name": "stdout",
     "output_type": "stream",
     "text": [
      "                     Bearing_1_x  Bearing_1_y  Bearing_2_x  Bearing_2_y  \\\n",
      "2003-10-22 12:06:24     0.104148     0.100253     0.107147     0.102004   \n",
      "2003-10-22 12:09:13     0.103651     0.099854     0.108189     0.102920   \n",
      "2003-10-22 12:14:13     0.105039     0.101543     0.108543     0.104042   \n",
      "2003-10-22 12:19:13     0.104900     0.101573     0.108152     0.103378   \n",
      "2003-10-22 12:24:13     0.104779     0.102181     0.107943     0.102629   \n",
      "\n",
      "                     Bearing_3_x  Bearing_3_y  Bearing_4_x  Bearing_4_y  \n",
      "2003-10-22 12:06:24     0.106149     0.108150     0.094803     0.099513  \n",
      "2003-10-22 12:09:13     0.106661     0.108458     0.095070     0.093587  \n",
      "2003-10-22 12:14:13     0.108740     0.109875     0.096158     0.098299  \n",
      "2003-10-22 12:19:13     0.108068     0.110010     0.096814     0.098602  \n",
      "2003-10-22 12:24:13     0.108454     0.109350     0.096358     0.098471  \n",
      "(2156, 8)\n"
     ]
    }
   ],
   "source": [
    "# Set the data_time index and ensuring the proper format\n",
    "combined_data.index = pd.to_datetime(combined_data.index, format='%Y.%m.%d.%H.%M.%S')\n",
    "\n",
    "# Sort the index in chronological order\n",
    "combined_data = combined_data.sort_index()\n",
    "\n",
    "# Saving the dataset as csv file\n",
    "combined_data.to_csv('Combined_Averaged_Dataset_1st_Test.csv')\n",
    "\n",
    "# Printing the combined_data\n",
    "print(combined_data.head(5))\n",
    "print(combined_data.shape)"
   ]
  },
  {
   "cell_type": "code",
   "execution_count": 19,
   "metadata": {},
   "outputs": [
    {
     "data": {
      "text/html": [
       "<div>\n",
       "<style scoped>\n",
       "    .dataframe tbody tr th:only-of-type {\n",
       "        vertical-align: middle;\n",
       "    }\n",
       "\n",
       "    .dataframe tbody tr th {\n",
       "        vertical-align: top;\n",
       "    }\n",
       "\n",
       "    .dataframe thead th {\n",
       "        text-align: right;\n",
       "    }\n",
       "</style>\n",
       "<table border=\"1\" class=\"dataframe\">\n",
       "  <thead>\n",
       "    <tr style=\"text-align: right;\">\n",
       "      <th></th>\n",
       "      <th>Bearing_1_x</th>\n",
       "      <th>Bearing_1_y</th>\n",
       "      <th>Bearing_2_x</th>\n",
       "      <th>Bearing_2_y</th>\n",
       "      <th>Bearing_3_x</th>\n",
       "      <th>Bearing_3_y</th>\n",
       "      <th>Bearing_4_x</th>\n",
       "      <th>Bearing_4_y</th>\n",
       "    </tr>\n",
       "  </thead>\n",
       "  <tbody>\n",
       "    <tr>\n",
       "      <th>count</th>\n",
       "      <td>2156.000000</td>\n",
       "      <td>2156.000000</td>\n",
       "      <td>2156.000000</td>\n",
       "      <td>2156.000000</td>\n",
       "      <td>2156.000000</td>\n",
       "      <td>2156.000000</td>\n",
       "      <td>2156.000000</td>\n",
       "      <td>2156.000000</td>\n",
       "    </tr>\n",
       "    <tr>\n",
       "      <th>mean</th>\n",
       "      <td>0.127485</td>\n",
       "      <td>0.124183</td>\n",
       "      <td>0.125529</td>\n",
       "      <td>0.120615</td>\n",
       "      <td>0.132830</td>\n",
       "      <td>0.134874</td>\n",
       "      <td>0.124395</td>\n",
       "      <td>0.125285</td>\n",
       "    </tr>\n",
       "    <tr>\n",
       "      <th>std</th>\n",
       "      <td>0.006072</td>\n",
       "      <td>0.006244</td>\n",
       "      <td>0.005745</td>\n",
       "      <td>0.005540</td>\n",
       "      <td>0.014742</td>\n",
       "      <td>0.014387</td>\n",
       "      <td>0.014100</td>\n",
       "      <td>0.013661</td>\n",
       "    </tr>\n",
       "    <tr>\n",
       "      <th>min</th>\n",
       "      <td>0.103651</td>\n",
       "      <td>0.099854</td>\n",
       "      <td>0.106503</td>\n",
       "      <td>0.101041</td>\n",
       "      <td>0.106149</td>\n",
       "      <td>0.108150</td>\n",
       "      <td>0.048434</td>\n",
       "      <td>0.069655</td>\n",
       "    </tr>\n",
       "    <tr>\n",
       "      <th>25%</th>\n",
       "      <td>0.127830</td>\n",
       "      <td>0.124814</td>\n",
       "      <td>0.125418</td>\n",
       "      <td>0.120930</td>\n",
       "      <td>0.131229</td>\n",
       "      <td>0.133214</td>\n",
       "      <td>0.118643</td>\n",
       "      <td>0.119842</td>\n",
       "    </tr>\n",
       "    <tr>\n",
       "      <th>50%</th>\n",
       "      <td>0.128906</td>\n",
       "      <td>0.125839</td>\n",
       "      <td>0.126128</td>\n",
       "      <td>0.121640</td>\n",
       "      <td>0.132256</td>\n",
       "      <td>0.134240</td>\n",
       "      <td>0.120237</td>\n",
       "      <td>0.121462</td>\n",
       "    </tr>\n",
       "    <tr>\n",
       "      <th>75%</th>\n",
       "      <td>0.129829</td>\n",
       "      <td>0.126582</td>\n",
       "      <td>0.127190</td>\n",
       "      <td>0.122351</td>\n",
       "      <td>0.133678</td>\n",
       "      <td>0.135752</td>\n",
       "      <td>0.129114</td>\n",
       "      <td>0.131736</td>\n",
       "    </tr>\n",
       "    <tr>\n",
       "      <th>max</th>\n",
       "      <td>0.142147</td>\n",
       "      <td>0.132988</td>\n",
       "      <td>0.170618</td>\n",
       "      <td>0.162325</td>\n",
       "      <td>0.438427</td>\n",
       "      <td>0.364037</td>\n",
       "      <td>0.229179</td>\n",
       "      <td>0.221455</td>\n",
       "    </tr>\n",
       "  </tbody>\n",
       "</table>\n",
       "</div>"
      ],
      "text/plain": [
       "       Bearing_1_x  Bearing_1_y  Bearing_2_x  Bearing_2_y  Bearing_3_x  \\\n",
       "count  2156.000000  2156.000000  2156.000000  2156.000000  2156.000000   \n",
       "mean      0.127485     0.124183     0.125529     0.120615     0.132830   \n",
       "std       0.006072     0.006244     0.005745     0.005540     0.014742   \n",
       "min       0.103651     0.099854     0.106503     0.101041     0.106149   \n",
       "25%       0.127830     0.124814     0.125418     0.120930     0.131229   \n",
       "50%       0.128906     0.125839     0.126128     0.121640     0.132256   \n",
       "75%       0.129829     0.126582     0.127190     0.122351     0.133678   \n",
       "max       0.142147     0.132988     0.170618     0.162325     0.438427   \n",
       "\n",
       "       Bearing_3_y  Bearing_4_x  Bearing_4_y  \n",
       "count  2156.000000  2156.000000  2156.000000  \n",
       "mean      0.134874     0.124395     0.125285  \n",
       "std       0.014387     0.014100     0.013661  \n",
       "min       0.108150     0.048434     0.069655  \n",
       "25%       0.133214     0.118643     0.119842  \n",
       "50%       0.134240     0.120237     0.121462  \n",
       "75%       0.135752     0.129114     0.131736  \n",
       "max       0.364037     0.229179     0.221455  "
      ]
     },
     "execution_count": 19,
     "metadata": {},
     "output_type": "execute_result"
    }
   ],
   "source": [
    "combined_data.describe()"
   ]
  },
  {
   "cell_type": "code",
   "execution_count": null,
   "metadata": {},
   "outputs": [],
   "source": []
  }
 ],
 "metadata": {
  "kernelspec": {
   "display_name": "Python 3",
   "language": "python",
   "name": "python3"
  },
  "language_info": {
   "codemirror_mode": {
    "name": "ipython",
    "version": 3
   },
   "file_extension": ".py",
   "mimetype": "text/x-python",
   "name": "python",
   "nbconvert_exporter": "python",
   "pygments_lexer": "ipython3",
   "version": "3.8.3"
  }
 },
 "nbformat": 4,
 "nbformat_minor": 4
}
